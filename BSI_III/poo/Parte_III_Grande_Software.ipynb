{
  "nbformat": 4,
  "nbformat_minor": 0,
  "metadata": {
    "colab": {
      "provenance": []
    },
    "kernelspec": {
      "name": "python3",
      "display_name": "Python 3"
    },
    "language_info": {
      "name": "python"
    }
  },
  "cells": [
    {
      "cell_type": "code",
      "execution_count": null,
      "metadata": {
        "id": "VSl9tGw6HK_W"
      },
      "outputs": [],
      "source": [
        "from enum import Enum\n",
        "\n",
        "class Builder(Enum):\n",
        "    FENDER = \"fender\"\n",
        "    MARTIN = \"martin\"\n",
        "    GIBSON = \"gibson\"\n",
        "    COLLINGS = \"collings\"\n",
        "    OLSON = \"olson\"\n",
        "    RYAN = \"ryan\"\n",
        "    PRS = \"prs\"\n",
        "    ANY = \"any\"\n",
        "\n",
        "class TypeG(Enum):\n",
        "    ACOUSTIC = \"acoustic\"\n",
        "    ELETRIC = \"eletric\"\n",
        "\n",
        "class Wood(Enum):\n",
        "    INDIAN_ROSEWOOD = \"indian_rosewood\"\n",
        "    BRAZILIAN_ROSEWOOD = \"brazilian_rosewood\"\n",
        "    MAHOGANY = \"mahogany\"\n",
        "    MAPLE = \"maple\"\n",
        "    COCOBOLO = \"ococobolo\"\n",
        "    CEDAR = \"cedar\"\n",
        "    ADIRONDACK = \"adirondack\"\n",
        "    ALDER = \"alder\"\n",
        "    SITKA = \"sitka\"\n"
      ]
    },
    {
      "cell_type": "code",
      "source": [
        "class Guitar:\n",
        "    def __init__(self, serial_number, price, builder, model, typeg, back_wood, top_wood):\n",
        "        self.serial_number = serial_number\n",
        "        self.price = price\n",
        "        self.builder = builder\n",
        "        self.model = model\n",
        "        self.typeg = typeg\n",
        "        self.back_wood = back_wood\n",
        "        self.top_wood = top_wood\n",
        "\n",
        "    def get_serial_number(self):\n",
        "        return self.serial_number\n",
        "\n",
        "    def get_price(self):\n",
        "        return self.price\n",
        "\n",
        "    def set_price(self, new_price):\n",
        "        self.price = new_price\n",
        "\n",
        "    def get_builder(self):\n",
        "        return self.builder\n",
        "\n",
        "    def get_typeg(self):\n",
        "        return self.typeg\n",
        "\n",
        "    def get_model(self):\n",
        "        return self.model\n",
        "\n",
        "    def get_back_wood(self):\n",
        "        return self.back_wood\n",
        "\n",
        "    def get_top_wood(self):\n",
        "        return self.top_wood\n"
      ],
      "metadata": {
        "id": "1QaSiFDI6gph"
      },
      "execution_count": null,
      "outputs": []
    },
    {
      "cell_type": "code",
      "source": [
        "class Inventory:\n",
        "    def __init__(self):\n",
        "        self.guitars = []\n",
        "\n",
        "    def add_guitar(self, serial_number, price, builder, model, typeg, back_wood, top_wood):\n",
        "        guitar = Guitar(serial_number, price, builder, model, typeg, back_wood, top_wood)\n",
        "        self.guitars.append(guitar)\n",
        "\n",
        "    def get_guitar(self, serial_number):\n",
        "        for guitar in self.guitars:\n",
        "            if guitar.get_serial_number() == serial_number:\n",
        "                return guitar\n",
        "        return None\n",
        "\n",
        "    def search_guitar(self, search_guitar):\n",
        "        for guitar in self.guitars:\n",
        "            if search_guitar.get_builder() != guitar.get_builder():\n",
        "                continue\n",
        "\n",
        "            model = search_guitar.get_model().lower()\n",
        "            if model and model != \"\" and model != guitar.get_model().lower():\n",
        "                continue\n",
        "\n",
        "            if search_guitar.get_typeg() != guitar.get_typeg():\n",
        "                continue\n",
        "            if search_guitar.get_back_wood() != guitar.get_back_wood():\n",
        "                continue\n",
        "            if search_guitar.get_top_wood() != guitar.get_top_wood():\n",
        "                continue\n",
        "            return guitar\n",
        "        return None\n",
        "\n"
      ],
      "metadata": {
        "id": "xZFD6c1C6wlU"
      },
      "execution_count": null,
      "outputs": []
    },
    {
      "cell_type": "code",
      "source": [
        "inventory = Inventory()\n",
        "\n",
        "inventory.add_guitar(\"V95693\", 1499.95, Builder.FENDER.value, \"Stratocastor\", TypeG.ELETRIC.value, Wood.ALDER.value, Wood.ALDER.value)\n",
        "\n",
        "whatErinLikes = Guitar(\" \", 0, Builder.FENDER.value, \"Stratocastor\", TypeG.ELETRIC.value, Wood.ALDER.value, Wood.ALDER.value)\n",
        "guitar = inventory.search_guitar(whatErinLikes)\n",
        "if guitar is not None:\n",
        "  print(f\"Erin, talvez você goste desta: {guitar.get_builder()} {guitar.get_model()} {guitar.get_typeg()} guitar:\\n {guitar.get_back_wood()} na traseira e laterais, \\n{guitar.get_top_wood()} no tampo.\\n Ela pode ser sua por apenas US${guitar.get_price()}!\")\n",
        "else:\n",
        "  print(\"Desculpe Erin, não temos nada para você\")\n"
      ],
      "metadata": {
        "colab": {
          "base_uri": "https://localhost:8080/"
        },
        "id": "NDQexEGzBoje",
        "outputId": "4e19890d-b6c1-4e27-cd1f-4983da2efad2"
      },
      "execution_count": null,
      "outputs": [
        {
          "output_type": "stream",
          "name": "stdout",
          "text": [
            "Erin, talvez você goste desta: fender Stratocastor eletric guitar:\n",
            " alder na traseira e laterais, \n",
            "alder no tampo.\n",
            " Ela pode ser sua por apenas US$1499.95!\n"
          ]
        }
      ]
    }
  ]
}