{
  "nbformat": 4,
  "nbformat_minor": 0,
  "metadata": {
    "colab": {
      "provenance": []
    },
    "kernelspec": {
      "name": "python3",
      "display_name": "Python 3"
    },
    "language_info": {
      "name": "python"
    }
  },
  "cells": [
    {
      "cell_type": "markdown",
      "source": [
        "# **Código do Sistema da Loja do Rick (Rick's Guitars)**"
      ],
      "metadata": {
        "id": "bzegaYhyp1rX"
      }
    },
    {
      "cell_type": "code",
      "source": [
        "from enum import Enum\n",
        "\n",
        "class Builder(Enum):\n",
        "    FENDER = \"fender\"\n",
        "    MARTIN = \"martin\"\n",
        "    GIBSON = \"gibson\"\n",
        "    COLLINGS = \"collings\"\n",
        "    OLSON = \"olson\"\n",
        "    RYAN = \"ryan\"\n",
        "    PRS = \"prs\"\n",
        "    ANY = \"any\"\n",
        "\n",
        "class TypeG(Enum):\n",
        "    ACOUSTIC = \"acoustic\"\n",
        "    ELECTRIC = \"electric\"\n",
        "\n",
        "class Wood(Enum):\n",
        "    INDIAN_ROSEWOOD = \"indian_rosewood\"\n",
        "    BRAZILIAN_ROSEWOOD = \"brazilian_rosewood\"\n",
        "    MAHOGANY = \"mahogany\"\n",
        "    MAPLE = \"maple\"\n",
        "    COCOBOLO = \"cocobolo\"\n",
        "    CEDAR = \"cedar\"\n",
        "    ADIRONDACK = \"adirondack\"\n",
        "    ALDER = \"alder\"\n",
        "    SITKA = \"sitka\""
      ],
      "metadata": {
        "id": "3CkeGahtZVPB"
      },
      "execution_count": null,
      "outputs": []
    },
    {
      "cell_type": "code",
      "execution_count": null,
      "metadata": {
        "id": "eNekBEnCpaXK"
      },
      "outputs": [],
      "source": [
        "class GuitarSpec:\n",
        "    def __init__(self, builder, model, typeG, backWood, topWood, numStrings):\n",
        "        self.builder = builder\n",
        "        self.model = model\n",
        "        self.typeG = typeG\n",
        "        self.backWood = backWood\n",
        "        self.topWood = topWood\n",
        "        self.numStrings = numStrings\n",
        "\n",
        "    def getBuilder(self):\n",
        "        return self.builder\n",
        "\n",
        "    def getTypeG(self):\n",
        "        return self.typeG\n",
        "\n",
        "    def getModel(self):\n",
        "        return self.model\n",
        "\n",
        "    def getBackWood(self):\n",
        "        return self.backWood\n",
        "\n",
        "    def getTopWood(self):\n",
        "        return self.topWood\n",
        "\n",
        "    def getNumStrings(self):\n",
        "        return self.numStrings\n",
        "\n",
        "    def matches(self, otherSpec):\n",
        "        if self.builder != otherSpec.getBuilder():\n",
        "            return False\n",
        "        if self.model and self.model.lower() != otherSpec.getModel().lower():\n",
        "            return False\n",
        "        if self.typeG != otherSpec.getTypeG():\n",
        "            return False\n",
        "        if self.backWood != otherSpec.getBackWood():\n",
        "            return False\n",
        "        if self.topWood != otherSpec.getTopWood():\n",
        "            return False\n",
        "        if self.numStrings != otherSpec.getNumStrings():\n",
        "            return False\n",
        "        return True\n"
      ]
    },
    {
      "cell_type": "code",
      "source": [
        "class Guitar:\n",
        "    def __init__(self, serialNumber, price, spec):\n",
        "        self.serialNumber = serialNumber\n",
        "        self.price = price\n",
        "        self.spec = spec\n",
        "\n",
        "    def getSerialNumber(self):\n",
        "        return self.serialNumber\n",
        "\n",
        "    def getPrice(self):\n",
        "        return self.price\n",
        "\n",
        "    def getSpec(self):\n",
        "        return self.spec"
      ],
      "metadata": {
        "id": "BWJIxi6YfQue"
      },
      "execution_count": null,
      "outputs": []
    },
    {
      "cell_type": "code",
      "source": [
        "class Inventory:\n",
        "    def __init__(self):\n",
        "        self.guitars = []\n",
        "\n",
        "    def addGuitar(self, serialNumber, price, spec):\n",
        "        guitar = Guitar(serialNumber, price, spec)\n",
        "        self.guitars.append(guitar)\n",
        "\n",
        "    def getGuitar(self, serialNumber):\n",
        "        for guitar in self.guitars:\n",
        "            if guitar.getSerialNumber() == serialNumber:\n",
        "                return guitar\n",
        "        return None\n",
        "\n",
        "    def search(self, searchGuitar):\n",
        "        matchingGuitars = []\n",
        "        for guitar in self.guitars:\n",
        "            if guitar.getSpec().matches(searchGuitar):\n",
        "                matchingGuitars.append(guitar)\n",
        "        return matchingGuitars"
      ],
      "metadata": {
        "id": "3qKrcDrUxDk0"
      },
      "execution_count": null,
      "outputs": []
    },
    {
      "cell_type": "code",
      "source": [
        "def initializeInventory(inventory):\n",
        "    spec1 = GuitarSpec(Builder.FENDER, \"stratocastor\", TypeG.ELECTRIC, Wood.ALDER, Wood.ALDER, 6)\n",
        "    inventory.addGuitar(\"V95693\", 1499.95, spec1)\n",
        "    inventory.addGuitar(\"V99999\", 1599.95, spec1)\n",
        "\n",
        "def main():\n",
        "    inventory = Inventory()\n",
        "    initializeInventory(inventory)\n",
        "\n",
        "    whatErinLikes = GuitarSpec(Builder.FENDER, \"Stratocastor\", TypeG.ELECTRIC, Wood.ALDER, Wood.ALDER, 6)\n",
        "    matchingGuitars = inventory.search(whatErinLikes)\n",
        "\n",
        "    if matchingGuitars:\n",
        "        print(\"Erin, talvez você goste destas: \")\n",
        "        for guitar in matchingGuitars:\n",
        "            guitarSpec = guitar.getSpec()\n",
        "            print(f\"\\nGuitarra: {guitar.getSerialNumber()} {guitarSpec.getBuilder().value} {guitarSpec.getModel()} {guitarSpec.getTypeG().value} guitar:\\n{guitarSpec.getBackWood().value} na traseira e laterais,\\n{guitarSpec.getTopWood().value} no tampo, com {guitarSpec.getNumStrings()} cordas\\nEla pode ser sua por apenas US${guitar.getPrice():.2f}!\")\n",
        "    else:\n",
        "        print(\"Desculpe Erin, não temos nada para você\")\n",
        "\n",
        "if __name__ == '__main__':\n",
        "    main()\n"
      ],
      "metadata": {
        "colab": {
          "base_uri": "https://localhost:8080/"
        },
        "id": "vl9IElgJ9zs4",
        "outputId": "7f482f1d-e67c-43b4-90c6-ec61ae18983a"
      },
      "execution_count": null,
      "outputs": [
        {
          "output_type": "stream",
          "name": "stdout",
          "text": [
            "Erin, talvez você goste destas: \n",
            "\n",
            "Guitarra: V95693 fender stratocastor electric guitar:\n",
            "alder na traseira e laterais,\n",
            "alder no tampo, com 6 cordas\n",
            "Ela pode ser sua por apenas US$1499.95!\n",
            "\n",
            "Guitarra: V99999 fender stratocastor electric guitar:\n",
            "alder na traseira e laterais,\n",
            "alder no tampo, com 6 cordas\n",
            "Ela pode ser sua por apenas US$1599.95!\n"
          ]
        }
      ]
    }
  ]
}