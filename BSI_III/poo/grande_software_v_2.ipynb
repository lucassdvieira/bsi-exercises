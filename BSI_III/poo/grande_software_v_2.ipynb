{
 "cells": [
  {
   "cell_type": "markdown",
   "metadata": {},
   "source": [
    "# **Código do Sistema da Loja do Rick (Rick's Guitars)**"
   ]
  },
  {
   "cell_type": "code",
   "execution_count": null,
   "metadata": {},
   "outputs": [],
   "source": [
    "from enum import Enum\n",
    "\n",
    "class Builder(Enum):\n",
    "    FENDER = \"fender\"\n",
    "    MARTIN = \"martin\"\n",
    "    GIBSON = \"gibson\"\n",
    "    COLLINGS = \"collings\"\n",
    "    OLSON = \"olson\"\n",
    "    RYAN = \"ryan\"\n",
    "    PRS = \"prs\"\n",
    "    ANY = \"any\"\n",
    "\n",
    "class TypeG(Enum):\n",
    "    ACOUSTIC = \"acoustic\"\n",
    "    ELECTRIC = \"electric\"\n",
    "\n",
    "class Wood(Enum):\n",
    "    INDIAN_ROSEWOOD = \"indian_rosewood\"\n",
    "    BRAZILIAN_ROSEWOOD = \"brazilian_rosewood\"\n",
    "    MAHOGANY = \"mahogany\"\n",
    "    MAPLE = \"maple\"\n",
    "    COCOBOLO = \"cocobolo\"\n",
    "    CEDAR = \"cedar\"\n",
    "    ADIRONDACK = \"adirondack\"\n",
    "    ALDER = \"alder\"\n",
    "    SITKA = \"sitka\"\n"
   ]
  },
  {
   "cell_type": "code",
   "execution_count": null,
   "metadata": {},
   "outputs": [],
   "source": [
    "class GuitarSpec:\n",
    "    def __init__(self, builder, model, typeG, backWood, topWood):\n",
    "        self.builder = builder\n",
    "        self.model = model\n",
    "        self.typeG = typeG\n",
    "        self.backWood = backWood\n",
    "        self.topWood = topWood\n",
    "\n",
    "    def matches(self, otherSpec):\n",
    "        if self.builder != otherSpec.builder and otherSpec.builder != Builder.ANY.value:\n",
    "            return False\n",
    "        if self.model != otherSpec.model and otherSpec.model:\n",
    "            return False\n",
    "        if self.typeG != otherSpec.typeG and otherSpec.typeG:\n",
    "            return False\n",
    "        if self.backWood != otherSpec.backWood and otherSpec.backWood:\n",
    "            return False\n",
    "        if self.topWood != otherSpec.topWood and otherSpec.topWood:\n",
    "            return False\n",
    "        return True\n",
    "\n",
    "class Guitar:\n",
    "    def __init__(self, serialNumber, price, spec):\n",
    "        self.serialNumber = serialNumber\n",
    "        self.price = price\n",
    "        self.spec = spec\n",
    "\n",
    "    def getSerialNumber(self):\n",
    "        return self.serialNumber\n",
    "\n",
    "    def getPrice(self):\n",
    "        return self.price\n",
    "\n",
    "    def setPrice(self, newPrice):\n",
    "        self.price = newPrice\n",
    "\n",
    "    def getSpec(self):\n",
    "        return self.spec"
   ]
  },
  {
   "cell_type": "code",
   "execution_count": null,
   "metadata": {},
   "outputs": [],
   "source": [
    "class Inventory:\n",
    "    def __init__(self):\n",
    "        self.guitars = []\n",
    "\n",
    "    def addGuitar(self, serialNumber, price, builder, model, typeG, backWood, topWood):\n",
    "        spec = GuitarSpec(builder, model, typeG, backWood, topWood)\n",
    "        guitar = Guitar(serialNumber, price, spec)\n",
    "        self.guitars.append(guitar)\n",
    "\n",
    "    def getGuitar(self, serialNumber):\n",
    "        for guitar in self.guitars:\n",
    "            if guitar.getSerialNumber() == serialNumber:\n",
    "                return guitar\n",
    "        return None\n",
    "\n",
    "    def searchGuitar(self, searchSpec):\n",
    "        matchingGuitars = []\n",
    "        for guitar in self.guitars:\n",
    "            if guitar.getSpec().matches(searchSpec):\n",
    "                matchingGuitars.append(guitar)\n",
    "        return matchingGuitars\n"
   ]
  },
  {
   "cell_type": "code",
   "execution_count": null,
   "metadata": {},
   "outputs": [
    {
     "name": "stdout",
     "output_type": "stream",
     "text": [
      "Erin, you might like this fender Stratocastor electric guitar:\n",
      "alder back and sides,\n",
      "alder top.\n",
      "You can have it for only $1499.95!\n"
     ]
    }
   ],
   "source": [
    "inventory = Inventory()\n",
    "\n",
    "inventory.addGuitar(\"V95693\", 1499.95, Builder.FENDER.value, \"Stratocastor\", TypeG.ELECTRIC.value, Wood.ALDER.value, Wood.ALDER.value)\n",
    "inventory.addGuitar(\"11277\", 3999.95, Builder.COLLINGS.value, \"CJ\", TypeG.ACOUSTIC.value, Wood.INDIAN_ROSEWOOD.value, Wood.INDIAN_ROSEWOOD.value)\n",
    "\n",
    "whatErinLikes = GuitarSpec(Builder.FENDER.value, \"Stratocastor\", TypeG.ELECTRIC.value, Wood.ALDER.value, Wood.ALDER.value)\n",
    "\n",
    "matchingGuitars = inventory.searchGuitar(whatErinLikes)\n",
    "if matchingGuitars:\n",
    "    for guitar in matchingGuitars:\n",
    "        spec = guitar.getSpec()\n",
    "        print(f\"Erin, you might like this {spec.builder} {spec.model} {spec.typeG} guitar:\\n{spec.backWood} back and sides,\\n{spec.topWood} top.\\nYou can have it for only ${guitar.getPrice()}!\")\n",
    "else:\n",
    "    print(\"Sorry, Erin, we have nothing for you.\")"
   ]
  }
 ],
 "metadata": {
  "language_info": {
   "name": "python"
  }
 },
 "nbformat": 4,
 "nbformat_minor": 2
}
