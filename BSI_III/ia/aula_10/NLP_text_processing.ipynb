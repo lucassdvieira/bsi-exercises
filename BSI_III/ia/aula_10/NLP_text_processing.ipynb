{
  "nbformat": 4,
  "nbformat_minor": 0,
  "metadata": {
    "kernelspec": {
      "display_name": "conda_python3",
      "language": "python",
      "name": "conda_python3"
    },
    "language_info": {
      "codemirror_mode": {
        "name": "ipython",
        "version": 3
      },
      "file_extension": ".py",
      "mimetype": "text/x-python",
      "name": "python",
      "nbconvert_exporter": "python",
      "pygments_lexer": "ipython3",
      "version": "3.6.10"
    },
    "colab": {
      "provenance": []
    }
  },
  "cells": [
    {
      "cell_type": "code",
      "metadata": {
        "id": "g3LT_T_ehM82",
        "outputId": "47c9d2cf-e872-4e30-c492-b5f35218f23a",
        "colab": {
          "base_uri": "https://localhost:8080/"
        }
      },
      "source": [
        "text = \"   This is a message to be cleaned. It may involve some things like: <br>, ?, :, ''  adjacent spaces and tabs     .  \"\n",
        "print(text)"
      ],
      "execution_count": 1,
      "outputs": [
        {
          "output_type": "stream",
          "name": "stdout",
          "text": [
            "   This is a message to be cleaned. It may involve some things like: <br>, ?, :, ''  adjacent spaces and tabs     .  \n"
          ]
        }
      ]
    },
    {
      "cell_type": "code",
      "metadata": {
        "id": "GCGNjoPVhM9Q",
        "outputId": "eb1744d8-8898-414f-8aff-0e70b84e84ba",
        "colab": {
          "base_uri": "https://localhost:8080/"
        }
      },
      "source": [
        "text = text.lower()\n",
        "print(text)"
      ],
      "execution_count": 2,
      "outputs": [
        {
          "output_type": "stream",
          "name": "stdout",
          "text": [
            "   this is a message to be cleaned. it may involve some things like: <br>, ?, :, ''  adjacent spaces and tabs     .  \n"
          ]
        }
      ]
    },
    {
      "cell_type": "code",
      "metadata": {
        "id": "Ok6n4uv-hM9g",
        "outputId": "83a94156-fa89-4e39-88c9-b5c63e014fe3",
        "colab": {
          "base_uri": "https://localhost:8080/"
        }
      },
      "source": [
        "text = text.strip()\n",
        "print(text)"
      ],
      "execution_count": 3,
      "outputs": [
        {
          "output_type": "stream",
          "name": "stdout",
          "text": [
            "this is a message to be cleaned. it may involve some things like: <br>, ?, :, ''  adjacent spaces and tabs     .\n"
          ]
        }
      ]
    },
    {
      "cell_type": "code",
      "metadata": {
        "id": "h7bEZYb1hM9v",
        "outputId": "d889e6eb-0c9a-4ab4-d3a3-64f70d323456",
        "colab": {
          "base_uri": "https://localhost:8080/"
        }
      },
      "source": [
        "import re\n",
        "\n",
        "text = re.compile('<.*?>').sub('', text)\n",
        "print(text)"
      ],
      "execution_count": 4,
      "outputs": [
        {
          "output_type": "stream",
          "name": "stdout",
          "text": [
            "this is a message to be cleaned. it may involve some things like: , ?, :, ''  adjacent spaces and tabs     .\n"
          ]
        }
      ]
    },
    {
      "cell_type": "code",
      "metadata": {
        "id": "Talfk_cihM9-",
        "outputId": "04b6c722-77a6-413c-d531-097525b91b82",
        "colab": {
          "base_uri": "https://localhost:8080/"
        }
      },
      "source": [
        "import re, string\n",
        "\n",
        "text = re.compile('[%s]' % re.escape(string.punctuation)).sub(' ', text)\n",
        "print(text)"
      ],
      "execution_count": 5,
      "outputs": [
        {
          "output_type": "stream",
          "name": "stdout",
          "text": [
            "this is a message to be cleaned  it may involve some things like              adjacent spaces and tabs      \n"
          ]
        }
      ]
    },
    {
      "cell_type": "code",
      "metadata": {
        "id": "Rb8W6yl2hM-M",
        "outputId": "0dc8836c-6b23-4d7f-9c57-92ffa8d99fe4",
        "colab": {
          "base_uri": "https://localhost:8080/"
        }
      },
      "source": [
        "import re\n",
        "\n",
        "text = re.sub('\\s+', ' ', text)\n",
        "print(text)"
      ],
      "execution_count": 6,
      "outputs": [
        {
          "output_type": "stream",
          "name": "stdout",
          "text": [
            "this is a message to be cleaned it may involve some things like adjacent spaces and tabs \n"
          ]
        }
      ]
    },
    {
      "cell_type": "code",
      "metadata": {
        "id": "KeKgBtkOhM-W",
        "colab": {
          "base_uri": "https://localhost:8080/"
        },
        "outputId": "713efeb1-d597-4512-90f1-24eb31a44c02"
      },
      "source": [
        "import nltk\n",
        "\n",
        "nltk.download('punkt')\n",
        "nltk.download('averaged_perceptron_tagger')\n",
        "nltk.download('wordnet')"
      ],
      "execution_count": 7,
      "outputs": [
        {
          "output_type": "stream",
          "name": "stderr",
          "text": [
            "[nltk_data] Downloading package punkt to /root/nltk_data...\n",
            "[nltk_data]   Unzipping tokenizers/punkt.zip.\n",
            "[nltk_data] Downloading package averaged_perceptron_tagger to\n",
            "[nltk_data]     /root/nltk_data...\n",
            "[nltk_data]   Unzipping taggers/averaged_perceptron_tagger.zip.\n",
            "[nltk_data] Downloading package wordnet to /root/nltk_data...\n"
          ]
        },
        {
          "output_type": "execute_result",
          "data": {
            "text/plain": [
              "True"
            ]
          },
          "metadata": {},
          "execution_count": 7
        }
      ]
    },
    {
      "cell_type": "code",
      "metadata": {
        "id": "JSzsFJWXhM-x"
      },
      "source": [
        "# We will use a tokenizer from the NLTK library\n",
        "import nltk\n",
        "from nltk.tokenize import word_tokenize\n",
        "\n",
        "filtered_sentence = []\n",
        "\n",
        "# Stop word lists can be adjusted for your problem\n",
        "stop_words = [\"a\", \"an\", \"the\", \"this\", \"that\", \"is\", \"it\", \"to\", \"and\"]\n",
        "\n",
        "# Tokenize the sentence\n",
        "words = word_tokenize(text)\n",
        "for w in words:\n",
        "    if w not in stop_words:\n",
        "        filtered_sentence.append(w)\n",
        "text = \" \".join(filtered_sentence)"
      ],
      "execution_count": 8,
      "outputs": []
    },
    {
      "cell_type": "code",
      "metadata": {
        "id": "yyq9FULThM-4",
        "outputId": "73ff2b91-e395-4d80-e8c3-e582d32482ea",
        "colab": {
          "base_uri": "https://localhost:8080/"
        }
      },
      "source": [
        "#imprime o texto \"tokenizado\" e sem as stop words.\n",
        "print(text)"
      ],
      "execution_count": 9,
      "outputs": [
        {
          "output_type": "stream",
          "name": "stdout",
          "text": [
            "message be cleaned may involve some things like adjacent spaces tabs\n"
          ]
        }
      ]
    },
    {
      "cell_type": "code",
      "metadata": {
        "id": "VgI3SfbzhM_B"
      },
      "source": [
        "# We will use a tokenizer and stemmer from the NLTK library\n",
        "import nltk\n",
        "from nltk.tokenize import word_tokenize\n",
        "from nltk.stem import SnowballStemmer\n",
        "\n",
        "# Initialize the stemmer\n",
        "snow = SnowballStemmer('english')\n",
        "\n",
        "stemmed_sentence = []\n",
        "# Tokenize the sentence\n",
        "words = word_tokenize(text)\n",
        "for w in words:\n",
        "    # Stem the word/token\n",
        "    stemmed_sentence.append(snow.stem(w))\n",
        "stemmed_text = \" \".join(stemmed_sentence)"
      ],
      "execution_count": 10,
      "outputs": []
    },
    {
      "cell_type": "code",
      "metadata": {
        "id": "TrkjQZowhM_K",
        "outputId": "c1ee6498-f125-4565-8ac6-d0955661c61c",
        "colab": {
          "base_uri": "https://localhost:8080/"
        }
      },
      "source": [
        "print(stemmed_text)"
      ],
      "execution_count": 11,
      "outputs": [
        {
          "output_type": "stream",
          "name": "stdout",
          "text": [
            "messag be clean may involv some thing like adjac space tab\n"
          ]
        }
      ]
    },
    {
      "cell_type": "code",
      "metadata": {
        "id": "vyWtFupZhM_V"
      },
      "source": [
        "# Importing the necessary functions\n",
        "import nltk\n",
        "from nltk.tokenize import word_tokenize\n",
        "from nltk.corpus import wordnet\n",
        "from nltk.stem import WordNetLemmatizer\n",
        "\n",
        "# Initialize the lemmatizer\n",
        "wl = WordNetLemmatizer()\n",
        "\n",
        "# This is a helper function to map NTLK position tags\n",
        "# Full list is available here: https://www.ling.upenn.edu/courses/Fall_2003/ling001/penn_treebank_pos.html\n",
        "def get_wordnet_pos(tag):\n",
        "    if tag.startswith('J'):\n",
        "        return wordnet.ADJ\n",
        "    elif tag.startswith('V'):\n",
        "        return wordnet.VERB\n",
        "    elif tag.startswith('N'):\n",
        "        return wordnet.NOUN\n",
        "    elif tag.startswith('R'):\n",
        "        return wordnet.ADV\n",
        "    else:\n",
        "        return wordnet.NOUN\n",
        "\n",
        "lemmatized_sentence = []\n",
        "# Tokenize the sentence\n",
        "words = word_tokenize(text)\n",
        "# Get position tags\n",
        "word_pos_tags = nltk.pos_tag(words)\n",
        "# Map the position tag and lemmatize the word/token\n",
        "for idx, tag in enumerate(word_pos_tags):\n",
        "    lemmatized_sentence.append(wl.lemmatize(tag[0], get_wordnet_pos(tag[1])))\n",
        "\n",
        "lemmatized_text = \" \".join(lemmatized_sentence)"
      ],
      "execution_count": 12,
      "outputs": []
    },
    {
      "cell_type": "code",
      "metadata": {
        "id": "ryixU25bhM_e",
        "outputId": "2159bb0a-dc26-45b2-fb9b-50e876273d6e",
        "colab": {
          "base_uri": "https://localhost:8080/"
        }
      },
      "source": [
        "print(lemmatized_text)"
      ],
      "execution_count": 13,
      "outputs": [
        {
          "output_type": "stream",
          "name": "stdout",
          "text": [
            "message be clean may involve some thing like adjacent space tabs\n"
          ]
        }
      ]
    }
  ]
}