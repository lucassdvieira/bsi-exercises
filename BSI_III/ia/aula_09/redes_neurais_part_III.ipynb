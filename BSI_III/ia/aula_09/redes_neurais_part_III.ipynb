{
  "cells": [
    {
      "cell_type": "code",
      "execution_count": null,
      "metadata": {
        "id": "-NXDCKeTxecc"
      },
      "outputs": [],
      "source": [
        "import tensorflow as tf\n",
        "from tensorflow import keras\n",
        "import numpy as np"
      ]
    },
    {
      "cell_type": "code",
      "execution_count": null,
      "metadata": {
        "id": "FRbNKgRnxxNA"
      },
      "outputs": [],
      "source": [
        "with np.load('/content/mnist.npz') as data:\n",
        "  x_train = data['x_train']\n",
        "  y_train = data['y_train']\n",
        "  x_test = data['x_test']\n",
        "  y_test = data['y_test']\n",
        "\n",
        "x_train = x_train / 255.0\n",
        "x_test = x_test / 255.0"
      ]
    },
    {
      "cell_type": "code",
      "execution_count": null,
      "metadata": {
        "id": "-4X4B41-yOkJ"
      },
      "outputs": [],
      "source": [
        "model = keras.Sequential([\n",
        "  keras.layers.Flatten(input_shape=(28, 28)),\n",
        "  keras.layers.Dense(128, activation='relu'),\n",
        "  keras.layers.Dense(10, activation='softmax')\n",
        "])\n",
        "\n",
        "model.compile(optimizer='adam',\n",
        "              loss='sparse_categorical_crossentropy',\n",
        "              metrics=['accuracy'])"
      ]
    },
    {
      "cell_type": "code",
      "execution_count": null,
      "metadata": {
        "colab": {
          "base_uri": "https://localhost:8080/"
        },
        "id": "GV_vR4r_yVbd",
        "outputId": "f7800737-8ccb-4cec-ccba-22ffb7ff9f3c"
      },
      "outputs": [
        {
          "name": "stdout",
          "output_type": "stream",
          "text": [
            "Epoch 1/10\n",
            "1875/1875 [==============================] - 6s 3ms/step - loss: 0.1463 - accuracy: 0.9575\n",
            "Epoch 2/10\n",
            "1875/1875 [==============================] - 8s 4ms/step - loss: 0.0906 - accuracy: 0.9731\n",
            "Epoch 3/10\n",
            "1875/1875 [==============================] - 7s 3ms/step - loss: 0.0671 - accuracy: 0.9797\n",
            "Epoch 4/10\n",
            "1875/1875 [==============================] - 8s 4ms/step - loss: 0.0515 - accuracy: 0.9844\n",
            "Epoch 5/10\n",
            "1875/1875 [==============================] - 7s 3ms/step - loss: 0.0403 - accuracy: 0.9876\n",
            "Epoch 6/10\n",
            "1875/1875 [==============================] - 8s 4ms/step - loss: 0.0319 - accuracy: 0.9904\n",
            "Epoch 7/10\n",
            "1875/1875 [==============================] - 6s 3ms/step - loss: 0.0266 - accuracy: 0.9916\n",
            "Epoch 8/10\n",
            "1875/1875 [==============================] - 8s 4ms/step - loss: 0.0213 - accuracy: 0.9936\n",
            "Epoch 9/10\n",
            "1875/1875 [==============================] - 7s 4ms/step - loss: 0.0181 - accuracy: 0.9943\n",
            "Epoch 10/10\n",
            " 707/1875 [==========>...................] - ETA: 5s - loss: 0.0109 - accuracy: 0.9970"
          ]
        }
      ],
      "source": [
        "model.fit(x_train, y_train, epochs=10)"
      ]
    },
    {
      "cell_type": "code",
      "execution_count": null,
      "metadata": {
        "colab": {
          "base_uri": "https://localhost:8080/"
        },
        "id": "KYnwCjmRzJ6Z",
        "outputId": "7872a9ca-d77f-49d8-d7ca-1699b248359b"
      },
      "outputs": [
        {
          "name": "stdout",
          "output_type": "stream",
          "text": [
            "313/313 - 1s - loss: 0.1880 - accuracy: 0.9458 - 606ms/epoch - 2ms/step\n",
            "\n",
            "Acurácia do Teste: 0.9458000063896179\n"
          ]
        }
      ],
      "source": [
        "test_loss, test_acc = model.evaluate(x_test, y_test, verbose=2)\n",
        "print('\\nAcurácia do Teste:', test_acc)"
      ]
    },
    {
      "cell_type": "code",
      "execution_count": null,
      "metadata": {
        "colab": {
          "base_uri": "https://localhost:8080/"
        },
        "id": "u9QVqpmuzO2F",
        "outputId": "17af1ddd-f830-415d-e549-a2e9b67ed06a"
      },
      "outputs": [
        {
          "name": "stdout",
          "output_type": "stream",
          "text": [
            "313/313 [==============================] - 1s 2ms/step\n",
            "test 1: prevision: 7, true manuscript: 7\n",
            "test 2: prevision: 2, true manuscript: 2\n",
            "test 3: prevision: 1, true manuscript: 1\n",
            "test 4: prevision: 0, true manuscript: 0\n",
            "test 5: prevision: 4, true manuscript: 4\n",
            "test 6: prevision: 1, true manuscript: 1\n",
            "test 7: prevision: 4, true manuscript: 4\n",
            "test 8: prevision: 9, true manuscript: 9\n",
            "test 9: prevision: 6, true manuscript: 5\n",
            "test 10: prevision: 9, true manuscript: 9\n"
          ]
        }
      ],
      "source": [
        "predictions = model.predict(x_test)\n",
        "\n",
        "for i in range(10):\n",
        "  predicted_label = np.argmax(predictions[i])\n",
        "  true_label = y_test[i]\n",
        "  print(f\"test {i+1}: prevision: {predicted_label}, true manuscript: {true_label}\")"
      ]
    }
  ],
  "metadata": {
    "colab": {
      "provenance": []
    },
    "kernelspec": {
      "display_name": "Python 3",
      "name": "python3"
    },
    "language_info": {
      "name": "python",
      "version": "3.12.2"
    }
  },
  "nbformat": 4,
  "nbformat_minor": 0
}
