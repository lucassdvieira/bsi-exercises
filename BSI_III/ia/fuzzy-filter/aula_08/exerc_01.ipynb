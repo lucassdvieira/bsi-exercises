{
  "nbformat": 4,
  "nbformat_minor": 0,
  "metadata": {
    "colab": {
      "provenance": []
    },
    "kernelspec": {
      "name": "python3",
      "display_name": "Python 3"
    },
    "language_info": {
      "name": "python"
    }
  },
  "cells": [
    {
      "cell_type": "code",
      "execution_count": null,
      "metadata": {
        "id": "LAU9Xf4AsDVH"
      },
      "outputs": [],
      "source": [
        "%pip install networkx\">=2.5\"\n",
        "%pip install scikit-fuzzy"
      ]
    },
    {
      "cell_type": "code",
      "source": [
        "import numpy as np\n",
        "import skfuzzy as fuzz\n",
        "from skfuzzy import control as ctrl"
      ],
      "metadata": {
        "id": "oGT5Dy-B5R7n"
      },
      "execution_count": 2,
      "outputs": []
    },
    {
      "cell_type": "code",
      "source": [
        "temperatura = ctrl.Antecedent(np.arange(15, 46, 1), 'temperatura')\n",
        "preco = ctrl.Antecedent(np.arange(1, 7, 1), 'preco')\n",
        "\n",
        "consumo = ctrl.Consequent(np.arange(500, 6001, 1), 'consumo')\n",
        "\n",
        "temperatura['baixa'] = fuzz.gaussmf(temperatura.universe, 15, 6.369)\n",
        "temperatura['media'] = fuzz.gaussmf(temperatura.universe, 30, 6.369)\n",
        "temperatura['alta'] = fuzz.gaussmf(temperatura.universe, 45, 6.369)\n",
        "\n",
        "preco['baixa'] = fuzz.gaussmf(preco.universe, 1, 1.061)\n",
        "preco['media'] = fuzz.gaussmf(preco.universe, 3.05, 1.061)\n",
        "preco['alta'] = fuzz.gaussmf(preco.universe, 6, 1.061)\n",
        "\n",
        "consumo['pequeno'] = fuzz.trimf(consumo.universe, [-2250, 500, 3250])\n",
        "consumo['medio'] = fuzz.trimf(consumo.universe, [500, 3250, 6000])\n",
        "consumo['grande'] = fuzz.trimf(consumo.universe, [3250, 6000, 8750])"
      ],
      "metadata": {
        "id": "U0wNcbu85S0c"
      },
      "execution_count": 10,
      "outputs": []
    },
    {
      "cell_type": "code",
      "source": [
        "regra1 = ctrl.Rule(temperatura['baixa'] & preco['baixa'], consumo['grande'])\n",
        "regra2 = ctrl.Rule(temperatura['baixa'] & preco['media'], consumo['medio'])\n",
        "regra3 = ctrl.Rule(temperatura['baixa'] & preco['alta'], consumo['pequeno'])\n",
        "\n",
        "regra4 = ctrl.Rule(temperatura['media'] & preco['baixa'], consumo['grande'])\n",
        "regra5 = ctrl.Rule(temperatura['media'] & preco['media'], consumo['medio'])\n",
        "regra6 = ctrl.Rule(temperatura['media'] & preco['alta'], consumo['pequeno'])\n",
        "\n",
        "regra7 = ctrl.Rule(temperatura['alta'] & preco['baixa'], consumo['grande'])\n",
        "regra8 = ctrl.Rule(temperatura['alta'] & preco['media'], consumo['medio'])\n",
        "regra9 = ctrl.Rule(temperatura['alta'] & preco['alta'], consumo['pequeno'])"
      ],
      "metadata": {
        "id": "qvmCvahQ9HLR"
      },
      "execution_count": 11,
      "outputs": []
    },
    {
      "cell_type": "code",
      "source": [
        "sistema_controle = ctrl.ControlSystem([regra1, regra2, regra3, regra4])\n",
        "simulacao = ctrl.ControlSystemSimulation(sistema_controle)\n",
        "\n",
        "simulacao.input['temperatura'] = 30\n",
        "simulacao.input['preco'] = 3.5\n",
        "\n",
        "simulacao.compute()\n",
        "\n",
        "print(simulacao.output['consumo'])"
      ],
      "metadata": {
        "colab": {
          "base_uri": "https://localhost:8080/"
        },
        "id": "8t_UX6ns-aSW",
        "outputId": "480dd9bc-023d-469c-f2c0-93536f8c5594"
      },
      "execution_count": 13,
      "outputs": [
        {
          "output_type": "stream",
          "name": "stdout",
          "text": [
            "3528.4225743835696\n"
          ]
        }
      ]
    }
  ]
}